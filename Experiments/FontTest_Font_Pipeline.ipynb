{
  "nbformat": 4,
  "nbformat_minor": 0,
  "metadata": {
    "colab": {
      "name": "Generating Font Pipeline.ipynb",
      "provenance": [],
      "collapsed_sections": []
    },
    "kernelspec": {
      "name": "python3",
      "display_name": "Python 3"
    },
    "language_info": {
      "name": "python"
    }
  },
  "cells": [
    {
      "cell_type": "code",
      "execution_count": null,
      "metadata": {
        "id": "ZoeQzJPwWevo"
      },
      "outputs": [],
      "source": [
        "import cv2 as cv\n",
        "from PIL import Image\n",
        "import numpy as np\n",
        "from PIL import ImageFont, ImageDraw, Image  \n",
        "import cv2  \n",
        "import numpy as np  "
      ]
    },
    {
      "cell_type": "code",
      "source": [
        "#generate a blank image\n",
        "img = Image.new(\"RGB\",(30,30),color=(255,255,255))\n",
        "img"
      ],
      "metadata": {
        "colab": {
          "base_uri": "https://localhost:8080/",
          "height": 47
        },
        "id": "yZ0mxm5DYKEH",
        "outputId": "c5913768-f2b4-4b9f-b0f9-dd770d3ec63f"
      },
      "execution_count": null,
      "outputs": [
        {
          "output_type": "execute_result",
          "data": {
            "text/plain": [
              "<PIL.Image.Image image mode=RGB size=30x30 at 0x7F266BA274D0>"
            ],
            "image/png": "[encoded data removed]"
          },
          "metadata": {},
          "execution_count": 2
        }
      ]
    },
    {
      "cell_type": "code",
      "source": [
        "aug_img = cv.putText(np.array(img),  \n",
        "           \"2\",  \n",
        "           (5, 25),  \n",
        "           fontFace=cv.FONT_HERSHEY_SIMPLEX,  \n",
        "           fontScale=1,  \n",
        "           color=(0, 0, 0))  "
      ],
      "metadata": {
        "id": "59aivHIdZkGH"
      },
      "execution_count": null,
      "outputs": []
    },
    {
      "cell_type": "code",
      "source": [
        "aug_img = Image.fromarray(aug_img)\n",
        "aug_img"
      ],
      "metadata": {
        "colab": {
          "base_uri": "https://localhost:8080/",
          "height": 47
        },
        "id": "TaipVkRswyfZ",
        "outputId": "fa98c4c8-a9f7-4a11-becd-e1437579a90f"
      },
      "execution_count": null,
      "outputs": [
        {
          "output_type": "execute_result",
          "data": {
            "text/plain": [
              "<PIL.Image.Image image mode=RGB size=30x30 at 0x7F266B26B210>"
            ],
            "image/png": "[encoded data removed]"
          },
          "metadata": {},
          "execution_count": 4
        }
      ]
    },
    {
      "cell_type": "code",
      "source": [
        "def gen_single_digit_image_font_type(digit,font_file_name,size=(25,30),start_point=(5,0),fontscale=20):\n",
        "  pil_im = Image.new(\"RGB\",size,color=(255,255,255))\n",
        "  \n",
        "  draw = ImageDraw.Draw(pil_im)  \n",
        "  font = ImageFont.truetype(font_file_name, fontscale)  \n",
        "  \n",
        "  draw.text(start_point, digit, font=font,fill=(0,0,0))  \n",
        "  cv2_im_processed = cv2.cvtColor(np.array(pil_im), cv2.COLOR_RGB2BGR)  \n",
        "  \n",
        "  aug_img = Image.fromarray(cv2_im_processed)\n",
        "  return aug_img "
      ],
      "metadata": {
        "id": "Vh8ko70-y89U"
      },
      "execution_count": null,
      "outputs": []
    },
    {
      "cell_type": "code",
      "source": [
        "gen_single_digit_image_font_type(\"0\",\"/content/terminal-grotesque.ttf\",fontscale=30,start_point=(5,0))"
      ],
      "metadata": {
        "colab": {
          "base_uri": "https://localhost:8080/",
          "height": 47
        },
        "id": "Na9rUTrunx3K",
        "outputId": "b1325619-f858-4a0b-a3ed-0a60172a8969"
      },
      "execution_count": null,
      "outputs": [
        {
          "output_type": "execute_result",
          "data": {
            "text/plain": [
              "<PIL.Image.Image image mode=RGB size=25x30 at 0x7F266B1C2150>"
            ],
            "image/png": "[encoded data removed]"
          },
          "metadata": {},
          "execution_count": 18
        }
      ]
    },
    {
      "cell_type": "code",
      "source": [
        "gen_single_digit_image_font_type(\"1\",\"/content/terminal-grotesque.ttf\",fontscale=30,start_point=(8,0))"
      ],
      "metadata": {
        "colab": {
          "base_uri": "https://localhost:8080/",
          "height": 47
        },
        "id": "thlbazfunx-c",
        "outputId": "77b30bda-698d-4b96-8ee4-ce6010ae7851"
      },
      "execution_count": null,
      "outputs": [
        {
          "output_type": "execute_result",
          "data": {
            "text/plain": [
              "<PIL.Image.Image image mode=RGB size=25x30 at 0x7F267769C990>"
            ],
            "image/png": "[encoded data removed]"
          },
          "metadata": {},
          "execution_count": 19
        }
      ]
    },
    {
      "cell_type": "code",
      "source": [
        "gen_single_digit_image_font_type(\"2\",\"/content/terminal-grotesque.ttf\",fontscale=30,start_point=(8,0))"
      ],
      "metadata": {
        "id": "nq9nhaZKqU6W",
        "colab": {
          "base_uri": "https://localhost:8080/",
          "height": 47
        },
        "outputId": "feab1dbb-59c5-409c-cede-86e9d28b899c"
      },
      "execution_count": null,
      "outputs": [
        {
          "output_type": "execute_result",
          "data": {
            "text/plain": [
              "<PIL.Image.Image image mode=RGB size=25x30 at 0x7F266B1F76D0>"
            ],
            "image/png": "[encoded data removed]"
          },
          "metadata": {},
          "execution_count": 20
        }
      ]
    },
    {
      "cell_type": "code",
      "source": [
        "gen_single_digit_image_font_type(\"3\",\"/content/terminal-grotesque.ttf\",fontscale=30,start_point=(8,0))"
      ],
      "metadata": {
        "colab": {
          "base_uri": "https://localhost:8080/",
          "height": 47
        },
        "id": "Iw1HSudsnHmk",
        "outputId": "27c51f90-a4f2-4a7f-8617-a474ea6d5dca"
      },
      "execution_count": null,
      "outputs": [
        {
          "output_type": "execute_result",
          "data": {
            "text/plain": [
              "<PIL.Image.Image image mode=RGB size=25x30 at 0x7F266B198610>"
            ],
            "image/png": "[encoded data removed]"
          },
          "metadata": {},
          "execution_count": 21
        }
      ]
    },
    {
      "cell_type": "code",
      "source": [
        "gen_single_digit_image_font_type(\"4\",\"/content/terminal-grotesque.ttf\",fontscale=30,start_point=(8,0))"
      ],
      "metadata": {
        "colab": {
          "base_uri": "https://localhost:8080/",
          "height": 47
        },
        "id": "kbE3LUOLn4Sy",
        "outputId": "f55c782b-5128-4fca-f9ed-dd7590967dc1"
      },
      "execution_count": null,
      "outputs": [
        {
          "output_type": "execute_result",
          "data": {
            "text/plain": [
              "<PIL.Image.Image image mode=RGB size=25x30 at 0x7F266B1A43D0>"
            ],
            "image/png": "[encoded data removed]"
          },
          "metadata": {},
          "execution_count": 22
        }
      ]
    },
    {
      "cell_type": "code",
      "source": [
        "gen_single_digit_image_font_type(\"5\",\"/content/terminal-grotesque.ttf\",fontscale=30,start_point=(8,0))"
      ],
      "metadata": {
        "colab": {
          "base_uri": "https://localhost:8080/",
          "height": 47
        },
        "id": "9M7G5c-Yn4X9",
        "outputId": "79fc9626-1cd5-4857-9c44-4954ae417578"
      },
      "execution_count": null,
      "outputs": [
        {
          "output_type": "execute_result",
          "data": {
            "text/plain": [
              "<PIL.Image.Image image mode=RGB size=25x30 at 0x7F266B1A4490>"
            ],
            "image/png": "[encoded data removed]"
          },
          "metadata": {},
          "execution_count": 23
        }
      ]
    },
    {
      "cell_type": "code",
      "source": [
        "gen_single_digit_image_font_type(\"6\",\"/content/terminal-grotesque.ttf\",fontscale=30,start_point=(8,0))"
      ],
      "metadata": {
        "colab": {
          "base_uri": "https://localhost:8080/",
          "height": 47
        },
        "id": "gf5m6Enkn4bA",
        "outputId": "78f932ca-2839-425f-db72-0481de1deccb"
      },
      "execution_count": null,
      "outputs": [
        {
          "output_type": "execute_result",
          "data": {
            "text/plain": [
              "<PIL.Image.Image image mode=RGB size=30x30 at 0x7F702AA1B9D0>"
            ],
            "image/png": "[encoded data removed]"
          },
          "metadata": {},
          "execution_count": 20
        }
      ]
    },
    {
      "cell_type": "code",
      "source": [
        "gen_single_digit_image_font_type(\"7\",\"/content/terminal-grotesque.ttf\",fontscale=30,start_point=(8,0))"
      ],
      "metadata": {
        "colab": {
          "base_uri": "https://localhost:8080/",
          "height": 47
        },
        "id": "3x9IdfQKn-mf",
        "outputId": "cd93c84b-16dd-49aa-8535-9715239bee0a"
      },
      "execution_count": null,
      "outputs": [
        {
          "output_type": "execute_result",
          "data": {
            "text/plain": [
              "<PIL.Image.Image image mode=RGB size=30x30 at 0x7F702AA649D0>"
            ],
            "image/png": "[encoded data removed]"
          },
          "metadata": {},
          "execution_count": 21
        }
      ]
    },
    {
      "cell_type": "code",
      "source": [
        "gen_single_digit_image_font_type(\"8\",\"/content/terminal-grotesque.ttf\",fontscale=30,start_point=(8,0))"
      ],
      "metadata": {
        "colab": {
          "base_uri": "https://localhost:8080/",
          "height": 47
        },
        "id": "JL9yuqx9n-vZ",
        "outputId": "a4464430-df21-454e-f5aa-4ccefa472c9d"
      },
      "execution_count": null,
      "outputs": [
        {
          "output_type": "execute_result",
          "data": {
            "text/plain": [
              "<PIL.Image.Image image mode=RGB size=30x30 at 0x7F702AA225D0>"
            ],
            "image/png": "[encoded data removed]"
          },
          "metadata": {},
          "execution_count": 22
        }
      ]
    },
    {
      "cell_type": "code",
      "source": [
        "gen_single_digit_image_font_type(\"9\",\"/content/terminal-grotesque.ttf\",fontscale=30,start_point=(8,0))"
      ],
      "metadata": {
        "colab": {
          "base_uri": "https://localhost:8080/",
          "height": 47
        },
        "id": "yw0geVI0n-zJ",
        "outputId": "3c1afdc3-e5d9-47f6-9644-8917679cb290"
      },
      "execution_count": null,
      "outputs": [
        {
          "output_type": "execute_result",
          "data": {
            "text/plain": [
              "<PIL.Image.Image image mode=RGB size=30x30 at 0x7F702AA1B150>"
            ],
            "image/png": "[encoded data removed]"
          },
          "metadata": {},
          "execution_count": 23
        }
      ]
    },
    {
      "cell_type": "code",
      "source": [
        "def gen_single_digit_image(digit,size=(30,30),start_point=(5,25),font=cv.FONT_HERSHEY_SIMPLEX,fontscale=1,thickness=2):\n",
        "  img = Image.new(\"RGB\",size,color=(255,255,255))\n",
        "  aug_img = cv.putText(np.array(img),  \n",
        "           digit,  \n",
        "           start_point,  \n",
        "           font,  \n",
        "           fontscale,\n",
        "           (0, 0, 0),\n",
        "           thickness)\n",
        "  aug_img = Image.fromarray(aug_img)\n",
        "  return aug_img \n",
        "\n",
        "  "
      ],
      "metadata": {
        "id": "vN1bp7O1yM41"
      },
      "execution_count": null,
      "outputs": []
    },
    {
      "cell_type": "code",
      "source": [
        "gen_single_digit_image(\"2\",font=cv.FONT_HERSHEY_SIMPLEX)"
      ],
      "metadata": {
        "colab": {
          "base_uri": "https://localhost:8080/",
          "height": 47
        },
        "id": "a9rXoIHHzvG8",
        "outputId": "26016584-f6e1-4566-dcd9-d768e5307511"
      },
      "execution_count": null,
      "outputs": [
        {
          "output_type": "execute_result",
          "data": {
            "text/plain": [
              "<PIL.Image.Image image mode=RGB size=30x30 at 0x7FBCDC1BB750>"
            ],
            "image/png": "[encoded data removed]"
          },
          "metadata": {},
          "execution_count": 67
        }
      ]
    },
    {
      "cell_type": "code",
      "source": [
        "gen_single_digit_image(\"2\",font=cv.FONT_HERSHEY_PLAIN)"
      ],
      "metadata": {
        "colab": {
          "base_uri": "https://localhost:8080/",
          "height": 47
        },
        "id": "Y-N0l6I2zvQq",
        "outputId": "b3e15553-626b-415a-e90f-79021d82e5b4"
      },
      "execution_count": null,
      "outputs": [
        {
          "output_type": "execute_result",
          "data": {
            "text/plain": [
              "<PIL.Image.Image image mode=RGB size=30x30 at 0x7FBCDC1BF990>"
            ],
            "image/png": "[encoded data removed]"
          },
          "metadata": {},
          "execution_count": 68
        }
      ]
    },
    {
      "cell_type": "code",
      "source": [
        "gen_single_digit_image(\"2\",font=cv.FONT_HERSHEY_DUPLEX)"
      ],
      "metadata": {
        "colab": {
          "base_uri": "https://localhost:8080/",
          "height": 47
        },
        "id": "CQ1HJDy-0O8J",
        "outputId": "94e4857b-ccc6-44df-cda3-12b35138a8b8"
      },
      "execution_count": null,
      "outputs": [
        {
          "output_type": "execute_result",
          "data": {
            "text/plain": [
              "<PIL.Image.Image image mode=RGB size=30x30 at 0x7FBCCC6E7610>"
            ],
            "image/png": "[encoded data removed]"
          },
          "metadata": {},
          "execution_count": 70
        }
      ]
    },
    {
      "cell_type": "code",
      "source": [
        "gen_single_digit_image(\"2\",font=cv.FONT_HERSHEY_COMPLEX)"
      ],
      "metadata": {
        "colab": {
          "base_uri": "https://localhost:8080/",
          "height": 47
        },
        "id": "bK0jPn0Z0X_0",
        "outputId": "1781c00a-e5b1-4a57-eaf5-5ea974c8668d"
      },
      "execution_count": null,
      "outputs": [
        {
          "output_type": "execute_result",
          "data": {
            "text/plain": [
              "<PIL.Image.Image image mode=RGB size=30x30 at 0x7FBCDC1BB890>"
            ],
            "image/png": "[encoded data removed]"
          },
          "metadata": {},
          "execution_count": 71
        }
      ]
    },
    {
      "cell_type": "code",
      "source": [
        "gen_single_digit_image(\"2\",font=cv.FONT_HERSHEY_TRIPLEX)"
      ],
      "metadata": {
        "colab": {
          "base_uri": "https://localhost:8080/",
          "height": 47
        },
        "id": "Wwk2_kG_0eHw",
        "outputId": "a2c7007f-21b9-4346-d12c-0461411c47f6"
      },
      "execution_count": null,
      "outputs": [
        {
          "output_type": "execute_result",
          "data": {
            "text/plain": [
              "<PIL.Image.Image image mode=RGB size=30x30 at 0x7FBCDD15B410>"
            ],
            "image/png": "[encoded data removed]"
          },
          "metadata": {},
          "execution_count": 72
        }
      ]
    },
    {
      "cell_type": "code",
      "source": [
        "gen_single_digit_image(\"2\",font=cv.FONT_HERSHEY_COMPLEX_SMALL)"
      ],
      "metadata": {
        "colab": {
          "base_uri": "https://localhost:8080/",
          "height": 47
        },
        "id": "CndCBQtQ0eKY",
        "outputId": "5bcf7c3b-9038-4de0-d76d-9f5fbb4ca5ee"
      },
      "execution_count": null,
      "outputs": [
        {
          "output_type": "execute_result",
          "data": {
            "text/plain": [
              "<PIL.Image.Image image mode=RGB size=30x30 at 0x7FBCCC616B50>"
            ],
            "image/png": "[encoded data removed]"
          },
          "metadata": {},
          "execution_count": 73
        }
      ]
    },
    {
      "cell_type": "code",
      "source": [
        "gen_single_digit_image(\"2\",font=cv.FONT_HERSHEY_SCRIPT_SIMPLEX)"
      ],
      "metadata": {
        "colab": {
          "base_uri": "https://localhost:8080/",
          "height": 47
        },
        "id": "rPnka2ud0eNG",
        "outputId": "e6b15981-1db7-42ca-b369-de4b31a768f9"
      },
      "execution_count": null,
      "outputs": [
        {
          "output_type": "execute_result",
          "data": {
            "text/plain": [
              "<PIL.Image.Image image mode=RGB size=30x30 at 0x7FBCCC731B10>"
            ],
            "image/png": "[encoded data removed]"
          },
          "metadata": {},
          "execution_count": 74
        }
      ]
    },
    {
      "cell_type": "code",
      "source": [
        "gen_single_digit_image(\"2\",font=cv.FONT_HERSHEY_SCRIPT_COMPLEX)"
      ],
      "metadata": {
        "colab": {
          "base_uri": "https://localhost:8080/",
          "height": 47
        },
        "id": "slmPbSRI0ePh",
        "outputId": "4e87b9d7-3d79-4127-a112-9801e68a4519"
      },
      "execution_count": null,
      "outputs": [
        {
          "output_type": "execute_result",
          "data": {
            "text/plain": [
              "<PIL.Image.Image image mode=RGB size=30x30 at 0x7FBCCC61F550>"
            ],
            "image/png": "[encoded data removed]"
          },
          "metadata": {},
          "execution_count": 75
        }
      ]
    },
    {
      "cell_type": "code",
      "source": [
        ""
      ],
      "metadata": {
        "id": "I6BHSLFm0eUw"
      },
      "execution_count": null,
      "outputs": []
    },
    {
      "cell_type": "code",
      "source": [
        ""
      ],
      "metadata": {
        "id": "hN1T_Q4x0eXM"
      },
      "execution_count": null,
      "outputs": []
    },
    {
      "cell_type": "code",
      "source": [
        ""
      ],
      "metadata": {
        "id": "C2-68gOA0eZy"
      },
      "execution_count": null,
      "outputs": []
    }
  ]
}