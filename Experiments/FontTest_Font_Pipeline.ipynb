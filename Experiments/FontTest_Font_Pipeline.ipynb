{
  "cells": [
    {
      "cell_type": "code",
      "execution_count": 125,
      "metadata": {
        "id": "ZoeQzJPwWevo"
      },
      "outputs": [],
      "source": [
        "import cv2 as cv\n",
        "from PIL import Image\n",
        "import numpy as np\n",
        "from PIL import ImageFont, ImageDraw, Image  \n",
        "import cv2  \n",
        "import numpy as np\n",
        "import json"
      ]
    },
    {
      "cell_type": "code",
      "execution_count": 2,
      "metadata": {
        "colab": {
          "base_uri": "https://localhost:8080/",
          "height": 47
        },
        "id": "yZ0mxm5DYKEH",
        "outputId": "c5913768-f2b4-4b9f-b0f9-dd770d3ec63f"
      },
      "outputs": [
        {
          "data": {
            "image/png": "[encoded data removed]",
            "text/plain": [
              "<PIL.Image.Image image mode=RGB size=30x30 at 0x203F39E0850>"
            ]
          },
          "execution_count": 2,
          "metadata": {},
          "output_type": "execute_result"
        }
      ],
      "source": [
        "#generate a blank image\n",
        "img = Image.new(\"RGB\",(30,30),color=(255,255,255))\n",
        "img"
      ]
    },
    {
      "cell_type": "code",
      "execution_count": 3,
      "metadata": {
        "id": "59aivHIdZkGH"
      },
      "outputs": [],
      "source": [
        "aug_img = cv.putText(np.array(img),  \n",
        "           \"2\",  \n",
        "           (5, 25),  \n",
        "           fontFace=cv.FONT_HERSHEY_SIMPLEX,  \n",
        "           fontScale=1,  \n",
        "           color=(0, 0, 0))  "
      ]
    },
    {
      "cell_type": "code",
      "execution_count": 4,
      "metadata": {
        "colab": {
          "base_uri": "https://localhost:8080/",
          "height": 47
        },
        "id": "TaipVkRswyfZ",
        "outputId": "fa98c4c8-a9f7-4a11-becd-e1437579a90f"
      },
      "outputs": [
        {
          "data": {
            "image/png": "[encoded data removed]",
            "text/plain": [
              "<PIL.Image.Image image mode=RGB size=30x30 at 0x203F3AA9B50>"
            ]
          },
          "execution_count": 4,
          "metadata": {},
          "output_type": "execute_result"
        }
      ],
      "source": [
        "aug_img = Image.fromarray(aug_img)\n",
        "aug_img"
      ]
    },
    {
      "cell_type": "code",
      "execution_count": 84,
      "metadata": {
        "id": "Vh8ko70-y89U"
      },
      "outputs": [],
      "source": [
        "def gen_single_digit_image_font_type(digit,font_file_name,size=(16,30),start_point=(0,0),fontscale=20):\n",
        "  pil_im = Image.new(\"RGB\",size,color=(255,255,255))\n",
        "  \n",
        "  draw = ImageDraw.Draw(pil_im)  \n",
        "  font = ImageFont.truetype(font_file_name, fontscale)  \n",
        "  \n",
        "  draw.text(start_point, digit, font=font,fill=(0,0,0))  \n",
        "  cv2_im_processed = cv2.cvtColor(np.array(pil_im), cv2.COLOR_RGB2BGR)  \n",
        "  \n",
        "  aug_img = Image.fromarray(cv2_im_processed)\n",
        "  return aug_img "
      ]
    },
    {
      "cell_type": "code",
      "execution_count": 140,
      "metadata": {},
      "outputs": [],
      "source": [
        "digit_configuration = {\n",
        "    \"0\":{\n",
        "        \"fontscale\": 30,\n",
        "        \"size\": (17,30),\n",
        "        \"start_point\": (0,0)\n",
        "    },\n",
        "\n",
        "    \"1\":{\n",
        "        \"fontscale\": 30,\n",
        "        \"size\": (11,30),\n",
        "        \"start_point\": (0,0)\n",
        "    },\n",
        "\n",
        "    \"2\":{\n",
        "        \"fontscale\": 30,\n",
        "        \"size\": (16,30),\n",
        "        \"start_point\": (0,0)\n",
        "    },\n",
        "\n",
        "    \"3\":{\n",
        "        \"fontscale\": 30,\n",
        "        \"size\": (16,30),\n",
        "        \"start_point\": (0,0)\n",
        "    },\n",
        "\n",
        "    \"4\":{\n",
        "        \"fontscale\": 30,\n",
        "        \"size\": (16,30),\n",
        "        \"start_point\": (0,0)\n",
        "    },\n",
        "\n",
        "    \"5\":{\n",
        "        \"fontscale\": 30,\n",
        "        \"size\": (16,30),\n",
        "        \"start_point\": (0,0)\n",
        "    },\n",
        "\n",
        "    \"6\":{\n",
        "        \"fontscale\": 30,\n",
        "        \"size\": (16,30),\n",
        "        \"start_point\": (0,0)\n",
        "    },\n",
        "\n",
        "    \"7\":{\n",
        "        \"fontscale\": 30,\n",
        "        \"size\": (16,30),\n",
        "        \"start_point\": (0,0)\n",
        "    },\n",
        "\n",
        "    \"8\":{\n",
        "        \"fontscale\": 30,\n",
        "        \"size\": (17,30),\n",
        "        \"start_point\": (0,0)\n",
        "    },\n",
        "\n",
        "    \"9\":{\n",
        "        \"fontscale\": 30,\n",
        "        \"size\": (17,30),\n",
        "        \"start_point\": (0,0)\n",
        "    },\n",
        "\n",
        "    \" \":{\n",
        "        \"fontscale\": 30,\n",
        "        \"size\": (10,30),\n",
        "        \"start_point\": (0,0)\n",
        "    },\n",
        "}"
      ]
    },
    {
      "cell_type": "code",
      "execution_count": 141,
      "metadata": {},
      "outputs": [],
      "source": [
        "with open(\"digit_configurations.json\",\"w+\") as f0:\n",
        "    json.dump(digit_configuration,f0)"
      ]
    },
    {
      "cell_type": "code",
      "execution_count": 142,
      "metadata": {},
      "outputs": [
        {
          "data": {
            "image/png": "[encoded data removed]",
            "text/plain": [
              "<PIL.Image.Image image mode=RGB size=10x30 at 0x203F3AB8B80>"
            ]
          },
          "execution_count": 142,
          "metadata": {},
          "output_type": "execute_result"
        }
      ],
      "source": [
        "gen_single_digit_image_font_type(\" \",\"terminal-grotesque.grotesque-regular.ttf\",\n",
        "                                fontscale=digit_configuration[\" \"][\"fontscale\"],\n",
        "                                size=digit_configuration[\" \"][\"size\"],\n",
        "                                start_point=digit_configuration[\" \"][\"start_point\"]\n",
        "                                )"
      ]
    },
    {
      "cell_type": "code",
      "execution_count": 113,
      "metadata": {
        "colab": {
          "base_uri": "https://localhost:8080/",
          "height": 47
        },
        "id": "Na9rUTrunx3K",
        "outputId": "b1325619-f858-4a0b-a3ed-0a60172a8969"
      },
      "outputs": [
        {
          "data": {
            "image/png": "[encoded data removed]",
            "text/plain": [
              "<PIL.Image.Image image mode=RGB size=17x30 at 0x203F3AA9D30>"
            ]
          },
          "execution_count": 113,
          "metadata": {},
          "output_type": "execute_result"
        }
      ],
      "source": [
        "gen_single_digit_image_font_type(\"0\",\"terminal-grotesque.grotesque-regular.ttf\",\n",
        "                                fontscale=digit_configuration[\"0\"][\"fontscale\"],\n",
        "                                size=digit_configuration[\"0\"][\"size\"],\n",
        "                                start_point=digit_configuration[\"0\"][\"start_point\"]\n",
        "                                )"
      ]
    },
    {
      "cell_type": "code",
      "execution_count": 114,
      "metadata": {
        "colab": {
          "base_uri": "https://localhost:8080/",
          "height": 47
        },
        "id": "thlbazfunx-c",
        "outputId": "77b30bda-698d-4b96-8ee4-ce6010ae7851"
      },
      "outputs": [
        {
          "data": {
            "image/png": "[encoded data removed]",
            "text/plain": [
              "<PIL.Image.Image image mode=RGB size=11x30 at 0x203F3E835B0>"
            ]
          },
          "execution_count": 114,
          "metadata": {},
          "output_type": "execute_result"
        }
      ],
      "source": [
        "gen_single_digit_image_font_type(\"1\",\"terminal-grotesque.grotesque-regular.ttf\",\n",
        "                                fontscale=digit_configuration[\"1\"][\"fontscale\"],\n",
        "                                size=digit_configuration[\"1\"][\"size\"],\n",
        "                                start_point=digit_configuration[\"1\"][\"start_point\"]\n",
        "                                )"
      ]
    },
    {
      "cell_type": "code",
      "execution_count": 115,
      "metadata": {
        "colab": {
          "base_uri": "https://localhost:8080/",
          "height": 47
        },
        "id": "nq9nhaZKqU6W",
        "outputId": "feab1dbb-59c5-409c-cede-86e9d28b899c"
      },
      "outputs": [
        {
          "data": {
            "image/png": "[encoded data removed]",
            "text/plain": [
              "<PIL.Image.Image image mode=RGB size=16x30 at 0x203F3E83490>"
            ]
          },
          "execution_count": 115,
          "metadata": {},
          "output_type": "execute_result"
        }
      ],
      "source": [
        "gen_single_digit_image_font_type(\"2\",\"terminal-grotesque.grotesque-regular.ttf\",\n",
        "                                fontscale=digit_configuration[\"2\"][\"fontscale\"],\n",
        "                                size=digit_configuration[\"2\"][\"size\"],\n",
        "                                start_point=digit_configuration[\"2\"][\"start_point\"]\n",
        "                                )"
      ]
    },
    {
      "cell_type": "code",
      "execution_count": 117,
      "metadata": {
        "colab": {
          "base_uri": "https://localhost:8080/",
          "height": 47
        },
        "id": "Iw1HSudsnHmk",
        "outputId": "27c51f90-a4f2-4a7f-8617-a474ea6d5dca"
      },
      "outputs": [
        {
          "data": {
            "image/png": "[encoded data removed]",
            "text/plain": [
              "<PIL.Image.Image image mode=RGB size=16x30 at 0x203F231AAC0>"
            ]
          },
          "execution_count": 117,
          "metadata": {},
          "output_type": "execute_result"
        }
      ],
      "source": [
        "gen_single_digit_image_font_type(\"3\",\"terminal-grotesque.grotesque-regular.ttf\",\n",
        "                                fontscale=digit_configuration[\"3\"][\"fontscale\"],\n",
        "                                size=digit_configuration[\"3\"][\"size\"],\n",
        "                                start_point=digit_configuration[\"3\"][\"start_point\"]\n",
        "                                )"
      ]
    },
    {
      "cell_type": "code",
      "execution_count": 118,
      "metadata": {
        "colab": {
          "base_uri": "https://localhost:8080/",
          "height": 47
        },
        "id": "kbE3LUOLn4Sy",
        "outputId": "f55c782b-5128-4fca-f9ed-dd7590967dc1"
      },
      "outputs": [
        {
          "data": {
            "image/png": "[encoded data removed]",
            "text/plain": [
              "<PIL.Image.Image image mode=RGB size=16x30 at 0x203F3AB82B0>"
            ]
          },
          "execution_count": 118,
          "metadata": {},
          "output_type": "execute_result"
        }
      ],
      "source": [
        "gen_single_digit_image_font_type(\"4\",\"terminal-grotesque.grotesque-regular.ttf\",\n",
        "                                fontscale=digit_configuration[\"4\"][\"fontscale\"],\n",
        "                                size=digit_configuration[\"4\"][\"size\"],\n",
        "                                start_point=digit_configuration[\"4\"][\"start_point\"]\n",
        "                                )"
      ]
    },
    {
      "cell_type": "code",
      "execution_count": 119,
      "metadata": {
        "colab": {
          "base_uri": "https://localhost:8080/",
          "height": 47
        },
        "id": "9M7G5c-Yn4X9",
        "outputId": "79fc9626-1cd5-4857-9c44-4954ae417578"
      },
      "outputs": [
        {
          "data": {
            "image/png": "[encoded data removed]",
            "text/plain": [
              "<PIL.Image.Image image mode=RGB size=16x30 at 0x203F3AB83A0>"
            ]
          },
          "execution_count": 119,
          "metadata": {},
          "output_type": "execute_result"
        }
      ],
      "source": [
        "gen_single_digit_image_font_type(\"5\",\"terminal-grotesque.grotesque-regular.ttf\",\n",
        "                                fontscale=digit_configuration[\"5\"][\"fontscale\"],\n",
        "                                size=digit_configuration[\"5\"][\"size\"],\n",
        "                                start_point=digit_configuration[\"5\"][\"start_point\"]\n",
        "                                )"
      ]
    },
    {
      "cell_type": "code",
      "execution_count": 120,
      "metadata": {
        "colab": {
          "base_uri": "https://localhost:8080/",
          "height": 47
        },
        "id": "gf5m6Enkn4bA",
        "outputId": "78f932ca-2839-425f-db72-0481de1deccb"
      },
      "outputs": [
        {
          "data": {
            "image/png": "[encoded data removed]",
            "text/plain": [
              "<PIL.Image.Image image mode=RGB size=16x30 at 0x203F3AB8EE0>"
            ]
          },
          "execution_count": 120,
          "metadata": {},
          "output_type": "execute_result"
        }
      ],
      "source": [
        "gen_single_digit_image_font_type(\"6\",\"terminal-grotesque.grotesque-regular.ttf\",\n",
        "                                fontscale=digit_configuration[\"6\"][\"fontscale\"],\n",
        "                                size=digit_configuration[\"6\"][\"size\"],\n",
        "                                start_point=digit_configuration[\"6\"][\"start_point\"]\n",
        "                                )"
      ]
    },
    {
      "cell_type": "code",
      "execution_count": 121,
      "metadata": {
        "colab": {
          "base_uri": "https://localhost:8080/",
          "height": 47
        },
        "id": "3x9IdfQKn-mf",
        "outputId": "cd93c84b-16dd-49aa-8535-9715239bee0a"
      },
      "outputs": [
        {
          "data": {
            "image/png": "[encoded data removed]",
            "text/plain": [
              "<PIL.Image.Image image mode=RGB size=16x30 at 0x203F3E83730>"
            ]
          },
          "execution_count": 121,
          "metadata": {},
          "output_type": "execute_result"
        }
      ],
      "source": [
        "gen_single_digit_image_font_type(\"7\",\"terminal-grotesque.grotesque-regular.ttf\",\n",
        "                                fontscale=digit_configuration[\"7\"][\"fontscale\"],\n",
        "                                size=digit_configuration[\"7\"][\"size\"],\n",
        "                                start_point=digit_configuration[\"7\"][\"start_point\"]\n",
        "                                )"
      ]
    },
    {
      "cell_type": "code",
      "execution_count": 122,
      "metadata": {
        "colab": {
          "base_uri": "https://localhost:8080/",
          "height": 47
        },
        "id": "JL9yuqx9n-vZ",
        "outputId": "a4464430-df21-454e-f5aa-4ccefa472c9d"
      },
      "outputs": [
        {
          "data": {
            "image/png": "[encoded data removed]",
            "text/plain": [
              "<PIL.Image.Image image mode=RGB size=17x30 at 0x203F39E0AC0>"
            ]
          },
          "execution_count": 122,
          "metadata": {},
          "output_type": "execute_result"
        }
      ],
      "source": [
        "gen_single_digit_image_font_type(\"8\",\"terminal-grotesque.grotesque-regular.ttf\",\n",
        "                                fontscale=digit_configuration[\"8\"][\"fontscale\"],\n",
        "                                size=digit_configuration[\"8\"][\"size\"],\n",
        "                                start_point=digit_configuration[\"8\"][\"start_point\"]\n",
        "                                )"
      ]
    },
    {
      "cell_type": "code",
      "execution_count": 123,
      "metadata": {
        "colab": {
          "base_uri": "https://localhost:8080/",
          "height": 47
        },
        "id": "yw0geVI0n-zJ",
        "outputId": "3c1afdc3-e5d9-47f6-9644-8917679cb290"
      },
      "outputs": [
        {
          "data": {
            "image/png": "[encoded data removed]",
            "text/plain": [
              "<PIL.Image.Image image mode=RGB size=17x30 at 0x203F2331CD0>"
            ]
          },
          "execution_count": 123,
          "metadata": {},
          "output_type": "execute_result"
        }
      ],
      "source": [
        "gen_single_digit_image_font_type(\"9\",\"terminal-grotesque.grotesque-regular.ttf\",\n",
        "                                fontscale=digit_configuration[\"9\"][\"fontscale\"],\n",
        "                                size=digit_configuration[\"9\"][\"size\"],\n",
        "                                start_point=digit_configuration[\"9\"][\"start_point\"]\n",
        "                                )"
      ]
    },
    {
      "cell_type": "code",
      "execution_count": null,
      "metadata": {
        "id": "vN1bp7O1yM41"
      },
      "outputs": [],
      "source": [
        "def gen_single_digit_image(digit,size=(30,30),start_point=(5,25),font=cv.FONT_HERSHEY_SIMPLEX,fontscale=1,thickness=2):\n",
        "  img = Image.new(\"RGB\",size,color=(255,255,255))\n",
        "  aug_img = cv.putText(np.array(img),  \n",
        "           digit,  \n",
        "           start_point,  \n",
        "           font,  \n",
        "           fontscale,\n",
        "           (0, 0, 0),\n",
        "           thickness)\n",
        "  aug_img = Image.fromarray(aug_img)\n",
        "  return aug_img \n",
        "\n",
        "  "
      ]
    },
    {
      "cell_type": "code",
      "execution_count": null,
      "metadata": {
        "colab": {
          "base_uri": "https://localhost:8080/",
          "height": 47
        },
        "id": "a9rXoIHHzvG8",
        "outputId": "26016584-f6e1-4566-dcd9-d768e5307511"
      },
      "outputs": [
        {
          "data": {
            "image/png": "[encoded data removed]",
            "text/plain": [
              "<PIL.Image.Image image mode=RGB size=30x30 at 0x7FBCDC1BB750>"
            ]
          },
          "execution_count": 67,
          "metadata": {},
          "output_type": "execute_result"
        }
      ],
      "source": [
        "gen_single_digit_image(\"2\",font=cv.FONT_HERSHEY_SIMPLEX)"
      ]
    },
    {
      "cell_type": "code",
      "execution_count": null,
      "metadata": {
        "colab": {
          "base_uri": "https://localhost:8080/",
          "height": 47
        },
        "id": "Y-N0l6I2zvQq",
        "outputId": "b3e15553-626b-415a-e90f-79021d82e5b4"
      },
      "outputs": [
        {
          "data": {
            "image/png": "[encoded data removed]",
            "text/plain": [
              "<PIL.Image.Image image mode=RGB size=30x30 at 0x7FBCDC1BF990>"
            ]
          },
          "execution_count": 68,
          "metadata": {},
          "output_type": "execute_result"
        }
      ],
      "source": [
        "gen_single_digit_image(\"2\",font=cv.FONT_HERSHEY_PLAIN)"
      ]
    },
    {
      "cell_type": "code",
      "execution_count": null,
      "metadata": {
        "colab": {
          "base_uri": "https://localhost:8080/",
          "height": 47
        },
        "id": "CQ1HJDy-0O8J",
        "outputId": "94e4857b-ccc6-44df-cda3-12b35138a8b8"
      },
      "outputs": [
        {
          "data": {
            "image/png": "[encoded data removed]",
            "text/plain": [
              "<PIL.Image.Image image mode=RGB size=30x30 at 0x7FBCCC6E7610>"
            ]
          },
          "execution_count": 70,
          "metadata": {},
          "output_type": "execute_result"
        }
      ],
      "source": [
        "gen_single_digit_image(\"2\",font=cv.FONT_HERSHEY_DUPLEX)"
      ]
    },
    {
      "cell_type": "code",
      "execution_count": null,
      "metadata": {
        "colab": {
          "base_uri": "https://localhost:8080/",
          "height": 47
        },
        "id": "bK0jPn0Z0X_0",
        "outputId": "1781c00a-e5b1-4a57-eaf5-5ea974c8668d"
      },
      "outputs": [
        {
          "data": {
            "image/png": "[encoded data removed]",
            "text/plain": [
              "<PIL.Image.Image image mode=RGB size=30x30 at 0x7FBCDC1BB890>"
            ]
          },
          "execution_count": 71,
          "metadata": {},
          "output_type": "execute_result"
        }
      ],
      "source": [
        "gen_single_digit_image(\"2\",font=cv.FONT_HERSHEY_COMPLEX)"
      ]
    },
    {
      "cell_type": "code",
      "execution_count": null,
      "metadata": {
        "colab": {
          "base_uri": "https://localhost:8080/",
          "height": 47
        },
        "id": "Wwk2_kG_0eHw",
        "outputId": "a2c7007f-21b9-4346-d12c-0461411c47f6"
      },
      "outputs": [
        {
          "data": {
            "image/png": "[encoded data removed]",
            "text/plain": [
              "<PIL.Image.Image image mode=RGB size=30x30 at 0x7FBCDD15B410>"
            ]
          },
          "execution_count": 72,
          "metadata": {},
          "output_type": "execute_result"
        }
      ],
      "source": [
        "gen_single_digit_image(\"2\",font=cv.FONT_HERSHEY_TRIPLEX)"
      ]
    },
    {
      "cell_type": "code",
      "execution_count": null,
      "metadata": {
        "colab": {
          "base_uri": "https://localhost:8080/",
          "height": 47
        },
        "id": "CndCBQtQ0eKY",
        "outputId": "5bcf7c3b-9038-4de0-d76d-9f5fbb4ca5ee"
      },
      "outputs": [
        {
          "data": {
            "image/png": "[encoded data removed]",
            "text/plain": [
              "<PIL.Image.Image image mode=RGB size=30x30 at 0x7FBCCC616B50>"
            ]
          },
          "execution_count": 73,
          "metadata": {},
          "output_type": "execute_result"
        }
      ],
      "source": [
        "gen_single_digit_image(\"2\",font=cv.FONT_HERSHEY_COMPLEX_SMALL)"
      ]
    },
    {
      "cell_type": "code",
      "execution_count": null,
      "metadata": {
        "colab": {
          "base_uri": "https://localhost:8080/",
          "height": 47
        },
        "id": "rPnka2ud0eNG",
        "outputId": "e6b15981-1db7-42ca-b369-de4b31a768f9"
      },
      "outputs": [
        {
          "data": {
            "image/png": "[encoded data removed]",
            "text/plain": [
              "<PIL.Image.Image image mode=RGB size=30x30 at 0x7FBCCC731B10>"
            ]
          },
          "execution_count": 74,
          "metadata": {},
          "output_type": "execute_result"
        }
      ],
      "source": [
        "gen_single_digit_image(\"2\",font=cv.FONT_HERSHEY_SCRIPT_SIMPLEX)"
      ]
    },
    {
      "cell_type": "code",
      "execution_count": null,
      "metadata": {
        "colab": {
          "base_uri": "https://localhost:8080/",
          "height": 47
        },
        "id": "slmPbSRI0ePh",
        "outputId": "4e87b9d7-3d79-4127-a112-9801e68a4519"
      },
      "outputs": [
        {
          "data": {
            "image/png": "[encoded data removed]",
            "text/plain": [
              "<PIL.Image.Image image mode=RGB size=30x30 at 0x7FBCCC61F550>"
            ]
          },
          "execution_count": 75,
          "metadata": {},
          "output_type": "execute_result"
        }
      ],
      "source": [
        "gen_single_digit_image(\"2\",font=cv.FONT_HERSHEY_SCRIPT_COMPLEX)"
      ]
    },
    {
      "cell_type": "code",
      "execution_count": null,
      "metadata": {
        "id": "I6BHSLFm0eUw"
      },
      "outputs": [],
      "source": []
    },
    {
      "cell_type": "code",
      "execution_count": null,
      "metadata": {
        "id": "hN1T_Q4x0eXM"
      },
      "outputs": [],
      "source": []
    },
    {
      "cell_type": "code",
      "execution_count": null,
      "metadata": {
        "id": "C2-68gOA0eZy"
      },
      "outputs": [],
      "source": []
    }
  ],
  "metadata": {
    "colab": {
      "collapsed_sections": [],
      "name": "Generating Font Pipeline.ipynb",
      "provenance": []
    },
    "kernelspec": {
      "display_name": "Python 3",
      "name": "python3"
    },
    "language_info": {
      "codemirror_mode": {
        "name": "ipython",
        "version": 3
      },
      "file_extension": ".py",
      "mimetype": "text/x-python",
      "name": "python",
      "nbconvert_exporter": "python",
      "pygments_lexer": "ipython3",
      "version": "3.9.10"
    }
  },
  "nbformat": 4,
  "nbformat_minor": 0
}
