{
 "cells": [
  {
   "cell_type": "code",
   "execution_count": 17,
   "metadata": {},
   "outputs": [],
   "source": [
    "import cv2 as cv\n",
    "from PIL import Image\n",
    "import numpy as np\n",
    "from PIL import ImageFont, ImageDraw, Image  \n",
    "import cv2  \n",
    "import numpy as np\n",
    "import json"
   ]
  },
  {
   "cell_type": "code",
   "execution_count": 18,
   "metadata": {},
   "outputs": [],
   "source": [
    "digit_configuration_file_path = \"digit_configurations.json\""
   ]
  },
  {
   "cell_type": "code",
   "execution_count": 19,
   "metadata": {},
   "outputs": [],
   "source": [
    "with open(digit_configuration_file_path,\"r+\") as f0:\n",
    "    digit_config = json.load(f0)"
   ]
  },
  {
   "cell_type": "code",
   "execution_count": 20,
   "metadata": {},
   "outputs": [],
   "source": [
    "def gen_single_digit_image_font_type(digit,font_file_name,size=(16,30),start_point=(0,0),fontscale=20) -> Image:\n",
    "  pil_im = Image.new(\"RGB\",size,color=(255,255,255))\n",
    "  \n",
    "  draw = ImageDraw.Draw(pil_im)  \n",
    "  font = ImageFont.truetype(font_file_name, fontscale)  \n",
    "  \n",
    "  draw.text(start_point, digit, font=font,fill=(0,0,0))  \n",
    "  cv2_im_processed = cv2.cvtColor(np.array(pil_im), cv2.COLOR_RGB2BGR)  \n",
    "  \n",
    "  aug_img = Image.fromarray(cv2_im_processed)\n",
    "  return aug_img "
   ]
  },
  {
   "cell_type": "code",
   "execution_count": 24,
   "metadata": {},
   "outputs": [],
   "source": [
    "def stack_digit(digits):\n",
    "    digits = [np.array(x) for x in digits]\n",
    "    digits = np.hstack(digits)\n",
    "    digits = Image.fromarray(digits)\n",
    "    return digits\n",
    "\n",
    "\n",
    "\n",
    "def apply_augmentation(digit):\n",
    "    augmented_images = gen_single_digit_image_font_type(digit,\"terminal-grotesque.grotesque-regular.ttf\",\n",
    "                                fontscale=digit_config[digit][\"fontscale\"],\n",
    "                                size=digit_config[digit][\"size\"],\n",
    "                                start_point=digit_config[digit][\"start_point\"]\n",
    "                                )\n",
    "    return augmented_images\n",
    "\n",
    "\n",
    "def generate_digit_sequence(digit_string:str):\n",
    "    augmented_digits=[]\n",
    "    for digit in digit_string:\n",
    "        augmented_digits.append(apply_augmentation(digit))\n",
    "\n",
    "    augmented_digits = stack_digit(augmented_digits)\n",
    "    return augmented_digits"
   ]
  },
  {
   "cell_type": "code",
   "execution_count": 25,
   "metadata": {},
   "outputs": [
    {
     "data": {
      "image/png": "[encoded data removed]",
      "text/plain": [
       "<PIL.Image.Image image mode=RGB size=364x30 at 0x23369A6AAF0>"
      ]
     },
     "execution_count": 25,
     "metadata": {},
     "output_type": "execute_result"
    }
   ],
   "source": [
    "generate_digit_sequence(\"267378 387834783 984984\")"
   ]
  },
  {
   "cell_type": "code",
   "execution_count": null,
   "metadata": {},
   "outputs": [],
   "source": [
    "#salt and pepper\n",
    "#gaussian noise\n",
    "#erosion\n",
    "\n",
    "#image augmentations"
   ]
  }
 ],
 "metadata": {
  "interpreter": {
   "hash": "2e6a1cdf7b7f7c1530ae3f0616cc301121bf35744c501fe560f1ab128c074b94"
  },
  "kernelspec": {
   "display_name": "Python 3.9.10 ('ImageGenerationPipeline')",
   "language": "python",
   "name": "python3"
  },
  "language_info": {
   "codemirror_mode": {
    "name": "ipython",
    "version": 3
   },
   "file_extension": ".py",
   "mimetype": "text/x-python",
   "name": "python",
   "nbconvert_exporter": "python",
   "pygments_lexer": "ipython3",
   "version": "3.9.10"
  },
  "orig_nbformat": 4
 },
 "nbformat": 4,
 "nbformat_minor": 2
}
